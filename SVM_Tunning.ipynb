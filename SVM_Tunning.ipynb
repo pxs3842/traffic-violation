{
 "cells": [
  {
   "cell_type": "markdown",
   "metadata": {},
   "source": [
    "# <p style=\"text-align:center\">Support Vector Classification Hyper-Parameters Tuning</p>"
   ]
  },
  {
   "cell_type": "markdown",
   "metadata": {},
   "source": [
    "## Libraries import"
   ]
  },
  {
   "cell_type": "code",
   "execution_count": 43,
   "metadata": {
    "collapsed": true
   },
   "outputs": [],
   "source": [
    "import pandas as pd\n",
    "import numpy as np\n",
    "from sklearn.cross_validation import train_test_split\n",
    "from sklearn.metrics import accuracy_score\n",
    "from sklearn import cross_validation\n",
    "from sklearn.cross_validation import KFold\n",
    "from sklearn.grid_search import GridSearchCV\n",
    "from sklearn.ensemble import RandomForestClassifier\n",
    "from sklearn import svm\n",
    "from sklearn.cross_validation import cross_val_score  \n",
    "from sklearn.grid_search import GridSearchCV     #Hyper-parameters\n",
    "import matplotlib.pyplot as plt\n",
    "%matplotlib inline"
   ]
  },
  {
   "cell_type": "markdown",
   "metadata": {},
   "source": [
    "#### File loading. We load the file (TrafficViolations.csv)"
   ]
  },
  {
   "cell_type": "code",
   "execution_count": 44,
   "metadata": {
    "collapsed": true
   },
   "outputs": [],
   "source": [
    "train = pd.read_csv('./dataset/TrafficViolations.csv')"
   ]
  },
  {
   "cell_type": "code",
   "execution_count": 45,
   "metadata": {
    "collapsed": false
   },
   "outputs": [
    {
     "data": {
      "text/plain": [
       "(12, 18)"
      ]
     },
     "execution_count": 45,
     "metadata": {},
     "output_type": "execute_result"
    }
   ],
   "source": [
    "null_data = train[train.isnull().any(axis=1)]\n",
    "null_data.shape"
   ]
  },
  {
   "cell_type": "code",
   "execution_count": 46,
   "metadata": {
    "collapsed": false
   },
   "outputs": [],
   "source": [
    "train.dropna(inplace=True)"
   ]
  },
  {
   "cell_type": "code",
   "execution_count": 47,
   "metadata": {
    "collapsed": false
   },
   "outputs": [
    {
     "data": {
      "text/plain": [
       "(28959, 18)"
      ]
     },
     "execution_count": 47,
     "metadata": {},
     "output_type": "execute_result"
    }
   ],
   "source": [
    "train.shape"
   ]
  },
  {
   "cell_type": "code",
   "execution_count": null,
   "metadata": {
    "collapsed": false
   },
   "outputs": [],
   "source": []
  },
  {
   "cell_type": "code",
   "execution_count": 48,
   "metadata": {
    "collapsed": false
   },
   "outputs": [
    {
     "data": {
      "text/plain": [
       "(28959,)"
      ]
     },
     "execution_count": 48,
     "metadata": {},
     "output_type": "execute_result"
    }
   ],
   "source": [
    "target = train['Damage.Class']\n",
    "target.shape"
   ]
  },
  {
   "cell_type": "markdown",
   "metadata": {},
   "source": [
    "## Target mapping to numeric"
   ]
  },
  {
   "cell_type": "code",
   "execution_count": 49,
   "metadata": {
    "collapsed": false
   },
   "outputs": [],
   "source": [
    "target_map = {'Class 1': 0, 'Class 2': 1, 'Class 3': 2}\n",
    "target = target.map(target_map)"
   ]
  },
  {
   "cell_type": "code",
   "execution_count": 50,
   "metadata": {
    "collapsed": false
   },
   "outputs": [
    {
     "data": {
      "text/plain": [
       "0    0\n",
       "1    2\n",
       "2    0\n",
       "3    1\n",
       "4    2\n",
       "Name: Damage.Class, dtype: int64"
      ]
     },
     "execution_count": 50,
     "metadata": {},
     "output_type": "execute_result"
    }
   ],
   "source": [
    "target.head()"
   ]
  },
  {
   "cell_type": "code",
   "execution_count": 51,
   "metadata": {
    "collapsed": false
   },
   "outputs": [
    {
     "data": {
      "text/plain": [
       "False"
      ]
     },
     "execution_count": 51,
     "metadata": {},
     "output_type": "execute_result"
    }
   ],
   "source": [
    "target.isnull().values.any()"
   ]
  },
  {
   "cell_type": "code",
   "execution_count": 52,
   "metadata": {
    "collapsed": false
   },
   "outputs": [
    {
     "data": {
      "text/plain": [
       "Index([u'Date Of Stop', u'Time Of Stop', u'Description', u'Belts',\n",
       "       u'Personal Injury', u'Property Damage', u'Fatal', u'Commercial License',\n",
       "       u'HAZMAT', u'Commercial Vehicle', u'Work Zone', u'VehicleType',\n",
       "       u'Violation Type', u'Contributed To Accident', u'Race', u'Gender',\n",
       "       u'Arrest Type', u'Damage.Class'],\n",
       "      dtype='object')"
      ]
     },
     "execution_count": 52,
     "metadata": {},
     "output_type": "execute_result"
    }
   ],
   "source": [
    "train.columns"
   ]
  },
  {
   "cell_type": "markdown",
   "metadata": {},
   "source": [
    "### Selecting features"
   ]
  },
  {
   "cell_type": "code",
   "execution_count": 53,
   "metadata": {
    "collapsed": true
   },
   "outputs": [],
   "source": [
    "features = ['Time Of Stop', 'Belts', 'Personal Injury', 'Property Damage',\n",
    "            'VehicleType'] #to be completed  arrest type, personal injury , property damage \n",
    "            #, contribute to accident                        \n",
    "train = train[features]"
   ]
  },
  {
   "cell_type": "markdown",
   "metadata": {},
   "source": [
    "## Function to convert feature values to numeric"
   ]
  },
  {
   "cell_type": "code",
   "execution_count": 54,
   "metadata": {
    "collapsed": true
   },
   "outputs": [],
   "source": [
    "#This function asumes the training set it is stored in variable named 'train'\n",
    "for(train_name, train_series) in train.iteritems():\n",
    "    if train_series.dtype == 'O':\n",
    "        train[train_name], tmp_indexer = pd.factorize(train[train_name])\n",
    "    else:\n",
    "         #for int or float: fill NaN\n",
    "        tmp_len = len(train[train_series.isnull()])\n",
    "        if tmp_len>0:\n",
    "            #print \"mean\", train_series.mean()\n",
    "            train.loc[train_series.isnull(), train_name] = -999"
   ]
  },
  {
   "cell_type": "code",
   "execution_count": 55,
   "metadata": {
    "collapsed": true
   },
   "outputs": [],
   "source": [
    "## Train test split"
   ]
  },
  {
   "cell_type": "code",
   "execution_count": 56,
   "metadata": {
    "collapsed": true
   },
   "outputs": [],
   "source": [
    "X_train, X_test, y_train, y_test = train_test_split(train, target, train_size=.15, random_state=0)"
   ]
  },
  {
   "cell_type": "code",
   "execution_count": 57,
   "metadata": {
    "collapsed": false
   },
   "outputs": [
    {
     "data": {
      "text/plain": [
       "(4343, 5)"
      ]
     },
     "execution_count": 57,
     "metadata": {},
     "output_type": "execute_result"
    }
   ],
   "source": [
    "X_train.shape"
   ]
  },
  {
   "cell_type": "code",
   "execution_count": 58,
   "metadata": {
    "collapsed": false
   },
   "outputs": [
    {
     "data": {
      "text/plain": [
       "(4343,)"
      ]
     },
     "execution_count": 58,
     "metadata": {},
     "output_type": "execute_result"
    }
   ],
   "source": [
    "y_train.shape"
   ]
  },
  {
   "cell_type": "markdown",
   "metadata": {},
   "source": [
    "## Support Vector Machine (No Tuning)"
   ]
  },
  {
   "cell_type": "code",
   "execution_count": 66,
   "metadata": {
    "collapsed": false
   },
   "outputs": [],
   "source": [
    "clf = svm.SVC(decision_function_shape='ovo')"
   ]
  },
  {
   "cell_type": "code",
   "execution_count": 67,
   "metadata": {
    "collapsed": false
   },
   "outputs": [
    {
     "data": {
      "text/plain": [
       "SVC(C=1.0, cache_size=200, class_weight=None, coef0=0.0,\n",
       "  decision_function_shape='ovo', degree=3, gamma='auto', kernel='rbf',\n",
       "  max_iter=-1, probability=False, random_state=None, shrinking=True,\n",
       "  tol=0.001, verbose=False)"
      ]
     },
     "execution_count": 67,
     "metadata": {},
     "output_type": "execute_result"
    }
   ],
   "source": [
    "clf.fit(X_train, y_train)"
   ]
  },
  {
   "cell_type": "code",
   "execution_count": 68,
   "metadata": {
    "collapsed": true
   },
   "outputs": [],
   "source": [
    "clf_train_predict = clf.predict(X_train)"
   ]
  },
  {
   "cell_type": "code",
   "execution_count": 69,
   "metadata": {
    "collapsed": false
   },
   "outputs": [
    {
     "data": {
      "text/plain": [
       "0.46880036840893391"
      ]
     },
     "execution_count": 69,
     "metadata": {},
     "output_type": "execute_result"
    }
   ],
   "source": [
    "clf_train_accuracy = accuracy_score(y_train, clf_train_predict)\n",
    "clf_train_accuracy"
   ]
  },
  {
   "cell_type": "code",
   "execution_count": 70,
   "metadata": {
    "collapsed": false
   },
   "outputs": [
    {
     "data": {
      "text/plain": [
       "0.45047936301592462"
      ]
     },
     "execution_count": 70,
     "metadata": {},
     "output_type": "execute_result"
    }
   ],
   "source": [
    "clf.fit(X_test, y_test)\n",
    "clf_test_predict = clf.predict(X_test)\n",
    "clf_test_accuracy = accuracy_score(y_test, clf_test_predict)\n",
    "clf_test_accuracy"
   ]
  },
  {
   "cell_type": "markdown",
   "metadata": {},
   "source": [
    "### Support Vector Machine using Cross Validation"
   ]
  },
  {
   "cell_type": "code",
   "execution_count": 30,
   "metadata": {
    "collapsed": false,
    "scrolled": true
   },
   "outputs": [
    {
     "name": "stdout",
     "output_type": "stream",
     "text": [
      "Cross-Validation (kfold=10) - Accuracy: 43.36%\n"
     ]
    }
   ],
   "source": [
    "\n",
    "r_scores = cross_val_score(clf, train, target, cv=5, scoring='accuracy', n_jobs=-1)\n",
    "# print r_scores\n",
    "r_scores = round(r_scores.mean() * 100, 2)\n",
    "print \"Cross-Validation (kfold=10) - Accuracy: {}%\".format(r_scores)"
   ]
  },
  {
   "cell_type": "markdown",
   "metadata": {
    "collapsed": true
   },
   "source": [
    "## <p style=\"text-align:center;\">Support Vector Machine Parameter tunning using GridSearchCV</p>"
   ]
  },
  {
   "cell_type": "markdown",
   "metadata": {},
   "source": [
    "## C-Support Vector Classification"
   ]
  },
  {
   "cell_type": "code",
   "execution_count": 71,
   "metadata": {
    "collapsed": false
   },
   "outputs": [
    {
     "data": {
      "text/plain": [
       "GridSearchCV(cv=10, error_score='raise',\n",
       "       estimator=SVC(C=1.0, cache_size=200, class_weight=None, coef0=0.0,\n",
       "  decision_function_shape=None, degree=3, gamma='auto', kernel='rbf',\n",
       "  max_iter=-1, probability=False, random_state=None, shrinking=True,\n",
       "  tol=0.001, verbose=False),\n",
       "       fit_params={}, iid=True, n_jobs=-1,\n",
       "       param_grid={'kernel': ['rbf', 'linear'], 'C': [0.1, 0.5, 1], 'decision_function_shape': ['ovr', 'ovo'], 'gamma': [0.5, 1, 2]},\n",
       "       pre_dispatch='2*n_jobs', refit=True, scoring='accuracy', verbose=0)"
      ]
     },
     "execution_count": 71,
     "metadata": {},
     "output_type": "execute_result"
    }
   ],
   "source": [
    "#Parameters\n",
    "svm_svc_param_C = [0.1, 0.5, 1]\n",
    "svm_svc_kernel = ['rbf', 'linear'] \n",
    "svm_svc_decision_function_shape = ['ovr', 'ovo']\n",
    "svm_svc_gamma = [0.5, 1, 2]\n",
    "\n",
    "svm_svc_param_grid = dict(C=svm_svc_param_C, gamma=svm_svc_gamma, decision_function_shape=svm_svc_decision_function_shape,\n",
    "                         kernel=svm_svc_kernel)\n",
    "\n",
    "svm_svc = svm.SVC()\n",
    "svm_svc_grid = GridSearchCV(svm_svc, svm_svc_param_grid, cv=10, scoring='accuracy', n_jobs=-1)\n",
    "svm_svc_grid.fit(X_train, y_train)\n",
    "#svm_tuning.get_params()"
   ]
  },
  {
   "cell_type": "code",
   "execution_count": 124,
   "metadata": {
    "collapsed": false
   },
   "outputs": [
    {
     "name": "stdout",
     "output_type": "stream",
     "text": [
      "0.466728068156\n",
      "{'kernel': 'linear'}\n",
      "SVC(C=1.0, cache_size=200, class_weight=None, coef0=0.0,\n",
      "  decision_function_shape=None, degree=3, gamma='auto', kernel='linear',\n",
      "  max_iter=-1, probability=False, random_state=None, shrinking=True,\n",
      "  tol=0.001, verbose=False)\n"
     ]
    }
   ],
   "source": [
    "print svm_svc_grid.best_score_\n",
    "print svm_svc_grid.best_params_\n",
    "print svm_svc_grid.best_estimator_\n",
    "svm_grid_mean_scores = [result.mean_validation_score for result in svm_svc_grid.grid_scores_]"
   ]
  },
  {
   "cell_type": "markdown",
   "metadata": {},
   "source": [
    "### Parameter tuning for C"
   ]
  },
  {
   "cell_type": "code",
   "execution_count": 75,
   "metadata": {
    "collapsed": true
   },
   "outputs": [],
   "source": [
    "svm_svc = svm.SVC() # with default parameters"
   ]
  },
  {
   "cell_type": "code",
   "execution_count": 76,
   "metadata": {
    "collapsed": true
   },
   "outputs": [],
   "source": [
    "param_c = [0.1, 0.2, 0.3, 0.5, 1]\n",
    "param_c_grid = dict(C=param_c)\n",
    "svm_svc_grid = GridSearchCV(svm_svc, param_c_grid, cv=10, scoring='accuracy', n_jobs=-1)\n",
    "svm_svc_grid.fit(X_train, y_train)\n",
    "param_c_mean_scores = [result.mean_validation_score for result in svm_svc_grid.grid_scores_]"
   ]
  },
  {
   "cell_type": "markdown",
   "metadata": {},
   "source": [
    "### Plot of SVM cost - Accuracy"
   ]
  },
  {
   "cell_type": "code",
   "execution_count": 123,
   "metadata": {
    "collapsed": false
   },
   "outputs": [
    {
     "data": {
      "text/plain": [
       "<matplotlib.text.Text at 0x11aebea90>"
      ]
     },
     "execution_count": 123,
     "metadata": {},
     "output_type": "execute_result"
    },
    {
     "data": {
      "image/png": "[encoded data removed]",
      "text/plain": [
       "<matplotlib.figure.Figure at 0x1188f2350>"
      ]
     },
     "metadata": {},
     "output_type": "display_data"
    }
   ],
   "source": [
    "c_accuracy = np.around(np.array(param_c_mean_scores) * 100, decimals=2)\n",
    "plt.plot(param_c, c_accuracy)\n",
    "plt.title('Plot of Accuracy vs Cost')\n",
    "plt.xlabel('SVM Cost')\n",
    "plt.ylabel('Cross-Validation Accuracy')"
   ]
  },
  {
   "cell_type": "code",
   "execution_count": 83,
   "metadata": {
    "collapsed": true
   },
   "outputs": [],
   "source": [
    "param_kernel = ['rbf', 'linear']\n",
    "param_c_grid = dict(kernel=param_kernel)\n",
    "svm_svc_grid = GridSearchCV(svm_svc, param_c_grid, cv=10, scoring='accuracy', n_jobs=-1)\n",
    "svm_svc_grid.fit(X_train, y_train)\n",
    "param_kernel_mean_scores = [result.mean_validation_score for result in svm_svc_grid.grid_scores_]"
   ]
  },
  {
   "cell_type": "code",
   "execution_count": 122,
   "metadata": {
    "collapsed": false,
    "scrolled": false
   },
   "outputs": [
    {
     "data": {
      "text/plain": [
       "<matplotlib.text.Text at 0x11aebef50>"
      ]
     },
     "execution_count": 122,
     "metadata": {},
     "output_type": "execute_result"
    },
    {
     "data": {
      "image/png": "[encoded data removed]",
      "text/plain": [
       "<matplotlib.figure.Figure at 0x117f01ad0>"
      ]
     },
     "metadata": {},
     "output_type": "display_data"
    }
   ],
   "source": [
    "objects = ('rbf','linear')\n",
    "kernel_label = np.arange(len(objects))\n",
    "kernel_accuracy = np.around(np.array(param_kernel_mean_scores) * 100, decimals=2)\n",
    "plt.bar(kernel_label, kernel_accuracy, align='center', alpha=0.5, color=['red', 'blue'])\n",
    "plt.xticks(kernel_label, objects)\n",
    "plt.grid(True)\n",
    "plt.title('Plot of Accuracy vs Kernel')\n",
    "plt.xlabel('SVM Kernel')\n",
    "plt.ylabel('Cross-Validation Accuracy')"
   ]
  },
  {
   "cell_type": "code",
   "execution_count": 151,
   "metadata": {
    "collapsed": false
   },
   "outputs": [
    {
     "name": "stdout",
     "output_type": "stream",
     "text": [
      "Kernel (ovr) : Accuracy 46.56%\n",
      "Kernel (ovo) : Accuracy 46.67%\n"
     ]
    }
   ],
   "source": [
    "for label, accuracy in zip (objects, kernel_accuracy):\n",
    "    print \"Kernel ({}) : Accuracy {}%\".format(label, accuracy)"
   ]
  },
  {
   "cell_type": "markdown",
   "metadata": {},
   "source": [
    "### Plot of Accuracy vs Decision Function"
   ]
  },
  {
   "cell_type": "code",
   "execution_count": 142,
   "metadata": {
    "collapsed": true
   },
   "outputs": [],
   "source": [
    "param_decision_function_shape = ['ovr', 'ovo']\n",
    "param_decision_function_grid = dict(decision_function_shape=param_decision_function_shape)\n",
    "svm_svc_grid = GridSearchCV(svm_svc, param_decision_function_grid, cv=10, scoring='accuracy', n_jobs=-1)\n",
    "svm_svc_grid.fit(X_train, y_train)\n",
    "param_decision_function_mean_scores = [result.mean_validation_score for result in svm_svc_grid.grid_scores_]"
   ]
  },
  {
   "cell_type": "code",
   "execution_count": 143,
   "metadata": {
    "collapsed": false,
    "scrolled": false
   },
   "outputs": [
    {
     "data": {
      "text/plain": [
       "<matplotlib.text.Text at 0x11c97cc50>"
      ]
     },
     "execution_count": 143,
     "metadata": {},
     "output_type": "execute_result"
    },
    {
     "data": {
      "image/png": "[encoded data removed]",
      "text/plain": [
       "<matplotlib.figure.Figure at 0x1179fa090>"
      ]
     },
     "metadata": {},
     "output_type": "display_data"
    }
   ],
   "source": [
    "objects = ('ovr','ovo')\n",
    "decision_function_label = np.arange(len(objects))\n",
    "decision_function_accuracy = np.around(np.array(param_decision_function_mean_scores) * 100, decimals=2)\n",
    "plt.bar(decision_function_label, decision_function_accuracy, align='center', alpha=0.5, color=['green', 'yellow'])\n",
    "plt.xticks(kernel_label, objects)\n",
    "plt.grid(True)\n",
    "plt.title('Plot of Accuracy vs Decision Function')\n",
    "plt.xlabel('SVM Decision Function')\n",
    "plt.ylabel('Cross-Validation Accuracy')"
   ]
  },
  {
   "cell_type": "markdown",
   "metadata": {},
   "source": [
    "### Plot of Accuracy vs Gamma"
   ]
  },
  {
   "cell_type": "code",
   "execution_count": 129,
   "metadata": {
    "collapsed": true
   },
   "outputs": [],
   "source": [
    "param_gamma = [0.1, 0.2, 0.3, 0.5, 1, 2]\n",
    "param_gamma_grid = dict(gamma=param_gamma)\n",
    "svm_svc_grid = GridSearchCV(svm_svc, param_gamma_grid, cv=10, scoring='accuracy', n_jobs=-1)\n",
    "svm_svc_grid.fit(X_train, y_train)\n",
    "param_c_mean_scores = [result.mean_validation_score for result in svm_svc_grid.grid_scores_]"
   ]
  },
  {
   "cell_type": "code",
   "execution_count": 131,
   "metadata": {
    "collapsed": false
   },
   "outputs": [
    {
     "data": {
      "text/plain": [
       "[0.46672806815565276,\n",
       " 0.46557679023716325,\n",
       " 0.46120193414690308,\n",
       " 0.45982040064471563,\n",
       " 0.45452452221966383,\n",
       " 0.45245222196638268]"
      ]
     },
     "execution_count": 131,
     "metadata": {},
     "output_type": "execute_result"
    }
   ],
   "source": [
    "param_c_mean_scores"
   ]
  },
  {
   "cell_type": "code",
   "execution_count": 130,
   "metadata": {
    "collapsed": false
   },
   "outputs": [
    {
     "data": {
      "text/plain": [
       "<matplotlib.text.Text at 0x11ba196d0>"
      ]
     },
     "execution_count": 130,
     "metadata": {},
     "output_type": "execute_result"
    },
    {
     "data": {
      "image/png": "[encoded data removed]",
      "text/plain": [
       "<matplotlib.figure.Figure at 0x117713ed0>"
      ]
     },
     "metadata": {},
     "output_type": "display_data"
    }
   ],
   "source": [
    "gamma_accuracy = np.around(np.array(param_c_mean_scores) * 100, decimals=2)\n",
    "plt.plot(param_gamma, gamma_accuracy)\n",
    "plt.title('Plot of Accuracy vs Gamma')\n",
    "plt.xlabel('SVM Gamma')\n",
    "plt.ylabel('Cross-Validation Accuracy')"
   ]
  },
  {
   "cell_type": "markdown",
   "metadata": {
    "collapsed": true
   },
   "source": [
    "## Support Vector with Tuned Hyper Parameters "
   ]
  },
  {
   "cell_type": "code",
   "execution_count": 132,
   "metadata": {
    "collapsed": false
   },
   "outputs": [
    {
     "name": "stdout",
     "output_type": "stream",
     "text": [
      "Cross-Validation (kfold=10) - Accuracy: 45.14%\n"
     ]
    }
   ],
   "source": [
    "tuned_clf = svm.SVC(kernel='linear', decision_function_shape='ovr', gamma=0.1, C=0.5)\n",
    "r_scores = cross_val_score(tuned_clf, train, target, cv=10, scoring='accuracy', n_jobs=-1)\n",
    "# print r_scores\n",
    "r_scores = round(r_scores.mean() * 100, 2)\n",
    "print \"Cross-Validation (kfold=10) - Accuracy: {}%\".format(r_scores)"
   ]
  }
 ],
 "metadata": {
  "kernelspec": {
   "display_name": "Python 2",
   "language": "python",
   "name": "python2"
  },
  "language_info": {
   "codemirror_mode": {
    "name": "ipython",
    "version": 2
   },
   "file_extension": ".py",
   "mimetype": "text/x-python",
   "name": "python",
   "nbconvert_exporter": "python",
   "pygments_lexer": "ipython2",
   "version": "2.7.11"
  }
 },
 "nbformat": 4,
 "nbformat_minor": 0
}
